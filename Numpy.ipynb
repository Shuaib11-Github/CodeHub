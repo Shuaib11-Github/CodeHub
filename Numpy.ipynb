{
  "nbformat": 4,
  "nbformat_minor": 0,
  "metadata": {
    "colab": {
      "name": "Numpy.ipynb",
      "provenance": [],
      "authorship_tag": "ABX9TyO1fP4xa87IW2WVTrwzWKii",
      "include_colab_link": true
    },
    "kernelspec": {
      "name": "python3",
      "display_name": "Python 3"
    },
    "language_info": {
      "name": "python"
    }
  },
  "cells": [
    {
      "cell_type": "markdown",
      "metadata": {
        "id": "view-in-github",
        "colab_type": "text"
      },
      "source": [
        "<a href=\"https://colab.research.google.com/github/Shuaib11-Github/CodeHub/blob/main/Numpy.ipynb\" target=\"_parent\"><img src=\"https://colab.research.google.com/assets/colab-badge.svg\" alt=\"Open In Colab\"/></a>"
      ]
    },
    {
      "cell_type": "code",
      "metadata": {
        "id": "bVQ_ZyGQlbSw"
      },
      "source": [
        "import numpy as np"
      ],
      "execution_count": 1,
      "outputs": []
    },
    {
      "cell_type": "code",
      "metadata": {
        "colab": {
          "base_uri": "https://localhost:8080/"
        },
        "id": "itYpK6GGlhov",
        "outputId": "56350abf-27d9-461f-e627-ea0edbd48b1f"
      },
      "source": [
        "print(np.__version__)"
      ],
      "execution_count": 2,
      "outputs": [
        {
          "output_type": "stream",
          "text": [
            "1.19.5\n"
          ],
          "name": "stdout"
        }
      ]
    },
    {
      "cell_type": "code",
      "metadata": {
        "colab": {
          "base_uri": "https://localhost:8080/"
        },
        "id": "Iq1YmZ7ylkYX",
        "outputId": "c0d04bb0-72e1-4c5b-926b-ef5c35a7d65e"
      },
      "source": [
        "print(np.show_config())"
      ],
      "execution_count": 7,
      "outputs": [
        {
          "output_type": "stream",
          "text": [
            "blas_mkl_info:\n",
            "  NOT AVAILABLE\n",
            "blis_info:\n",
            "  NOT AVAILABLE\n",
            "openblas_info:\n",
            "    libraries = ['openblas', 'openblas']\n",
            "    library_dirs = ['/usr/local/lib']\n",
            "    language = c\n",
            "    define_macros = [('HAVE_CBLAS', None)]\n",
            "blas_opt_info:\n",
            "    libraries = ['openblas', 'openblas']\n",
            "    library_dirs = ['/usr/local/lib']\n",
            "    language = c\n",
            "    define_macros = [('HAVE_CBLAS', None)]\n",
            "lapack_mkl_info:\n",
            "  NOT AVAILABLE\n",
            "openblas_lapack_info:\n",
            "    libraries = ['openblas', 'openblas']\n",
            "    library_dirs = ['/usr/local/lib']\n",
            "    language = c\n",
            "    define_macros = [('HAVE_CBLAS', None)]\n",
            "lapack_opt_info:\n",
            "    libraries = ['openblas', 'openblas']\n",
            "    library_dirs = ['/usr/local/lib']\n",
            "    language = c\n",
            "    define_macros = [('HAVE_CBLAS', None)]\n",
            "None\n"
          ],
          "name": "stdout"
        }
      ]
    },
    {
      "cell_type": "code",
      "metadata": {
        "colab": {
          "base_uri": "https://localhost:8080/"
        },
        "id": "4Q5Y23eTltUP",
        "outputId": "61e280b3-3e53-4bf4-fd65-3d37e31eaaa6"
      },
      "source": [
        "a = np.zeros(10)\n",
        "a"
      ],
      "execution_count": 8,
      "outputs": [
        {
          "output_type": "execute_result",
          "data": {
            "text/plain": [
              "array([0., 0., 0., 0., 0., 0., 0., 0., 0., 0.])"
            ]
          },
          "metadata": {
            "tags": []
          },
          "execution_count": 8
        }
      ]
    },
    {
      "cell_type": "code",
      "metadata": {
        "colab": {
          "base_uri": "https://localhost:8080/"
        },
        "id": "BzyQRydSm00t",
        "outputId": "2a7b1112-b274-49c8-8d4b-f6a0220b1795"
      },
      "source": [
        "b = np.arange(0, 10)\n",
        "print(type(b))\n",
        "print(b.dtype)"
      ],
      "execution_count": 9,
      "outputs": [
        {
          "output_type": "stream",
          "text": [
            "<class 'numpy.ndarray'>\n",
            "int64\n"
          ],
          "name": "stdout"
        }
      ]
    },
    {
      "cell_type": "code",
      "metadata": {
        "colab": {
          "base_uri": "https://localhost:8080/"
        },
        "id": "0n-yO9zxnQBs",
        "outputId": "fd1ad1bb-b72f-457d-fb23-b77e84f5441a"
      },
      "source": [
        "b.ndim"
      ],
      "execution_count": 10,
      "outputs": [
        {
          "output_type": "execute_result",
          "data": {
            "text/plain": [
              "1"
            ]
          },
          "metadata": {
            "tags": []
          },
          "execution_count": 10
        }
      ]
    },
    {
      "cell_type": "code",
      "metadata": {
        "colab": {
          "base_uri": "https://localhost:8080/"
        },
        "id": "fkUmOk5-ndli",
        "outputId": "cb1d6993-94e7-4034-e7fd-b9feb4f8d04c"
      },
      "source": [
        "b.itemsize"
      ],
      "execution_count": 11,
      "outputs": [
        {
          "output_type": "execute_result",
          "data": {
            "text/plain": [
              "8"
            ]
          },
          "metadata": {
            "tags": []
          },
          "execution_count": 11
        }
      ]
    },
    {
      "cell_type": "code",
      "metadata": {
        "colab": {
          "base_uri": "https://localhost:8080/"
        },
        "id": "QzdXYx5mngcS",
        "outputId": "b78a76b1-5481-4197-e3be-d1c7596107b6"
      },
      "source": [
        "b.nbytes"
      ],
      "execution_count": 12,
      "outputs": [
        {
          "output_type": "execute_result",
          "data": {
            "text/plain": [
              "80"
            ]
          },
          "metadata": {
            "tags": []
          },
          "execution_count": 12
        }
      ]
    },
    {
      "cell_type": "code",
      "metadata": {
        "colab": {
          "base_uri": "https://localhost:8080/"
        },
        "id": "DI5rG5NdnltS",
        "outputId": "aead9d28-3d2f-4c00-aa37-cb4bb6005bd0"
      },
      "source": [
        "c = np.zeros(10)\n",
        "c[4] = 1\n",
        "c"
      ],
      "execution_count": 14,
      "outputs": [
        {
          "output_type": "execute_result",
          "data": {
            "text/plain": [
              "array([0., 0., 0., 0., 1., 0., 0., 0., 0., 0.])"
            ]
          },
          "metadata": {
            "tags": []
          },
          "execution_count": 14
        }
      ]
    },
    {
      "cell_type": "code",
      "metadata": {
        "colab": {
          "base_uri": "https://localhost:8080/"
        },
        "id": "sw2k6pnNnxWO",
        "outputId": "b98e8d4c-2b88-4743-87dc-5259eca9ef37"
      },
      "source": [
        "d = np.arange(10, 50)\n",
        "d"
      ],
      "execution_count": 16,
      "outputs": [
        {
          "output_type": "execute_result",
          "data": {
            "text/plain": [
              "array([10, 11, 12, 13, 14, 15, 16, 17, 18, 19, 20, 21, 22, 23, 24, 25, 26,\n",
              "       27, 28, 29, 30, 31, 32, 33, 34, 35, 36, 37, 38, 39, 40, 41, 42, 43,\n",
              "       44, 45, 46, 47, 48, 49])"
            ]
          },
          "metadata": {
            "tags": []
          },
          "execution_count": 16
        }
      ]
    },
    {
      "cell_type": "code",
      "metadata": {
        "colab": {
          "base_uri": "https://localhost:8080/"
        },
        "id": "Cymy8Ulvn7EB",
        "outputId": "a42dff96-0f5a-4d92-ad3b-0086b5440ac6"
      },
      "source": [
        "d[::-1]"
      ],
      "execution_count": 17,
      "outputs": [
        {
          "output_type": "execute_result",
          "data": {
            "text/plain": [
              "array([49, 48, 47, 46, 45, 44, 43, 42, 41, 40, 39, 38, 37, 36, 35, 34, 33,\n",
              "       32, 31, 30, 29, 28, 27, 26, 25, 24, 23, 22, 21, 20, 19, 18, 17, 16,\n",
              "       15, 14, 13, 12, 11, 10])"
            ]
          },
          "metadata": {
            "tags": []
          },
          "execution_count": 17
        }
      ]
    },
    {
      "cell_type": "code",
      "metadata": {
        "colab": {
          "base_uri": "https://localhost:8080/"
        },
        "id": "rEOxUolEoOAF",
        "outputId": "014f7952-49b1-4174-ee39-57cd63f85e80"
      },
      "source": [
        "x = np.arange(0, 9)\n",
        "x.reshape(3, 3)"
      ],
      "execution_count": 20,
      "outputs": [
        {
          "output_type": "execute_result",
          "data": {
            "text/plain": [
              "array([[0, 1, 2],\n",
              "       [3, 4, 5],\n",
              "       [6, 7, 8]])"
            ]
          },
          "metadata": {
            "tags": []
          },
          "execution_count": 20
        }
      ]
    },
    {
      "cell_type": "code",
      "metadata": {
        "colab": {
          "base_uri": "https://localhost:8080/"
        },
        "id": "YJavdCF6oW46",
        "outputId": "4fcd8611-c23a-4129-da70-b0ee53f6b7e4"
      },
      "source": [
        "y = np.array([1, 2, 0, 0, 4, 0])\n",
        "np.nonzero(y)"
      ],
      "execution_count": 21,
      "outputs": [
        {
          "output_type": "execute_result",
          "data": {
            "text/plain": [
              "(array([0, 1, 4]),)"
            ]
          },
          "metadata": {
            "tags": []
          },
          "execution_count": 21
        }
      ]
    },
    {
      "cell_type": "code",
      "metadata": {
        "colab": {
          "base_uri": "https://localhost:8080/"
        },
        "id": "f9dyEXyDpKpL",
        "outputId": "321e022b-dacc-4e06-840d-333d8ce578fa"
      },
      "source": [
        "np.identity(3)"
      ],
      "execution_count": 22,
      "outputs": [
        {
          "output_type": "execute_result",
          "data": {
            "text/plain": [
              "array([[1., 0., 0.],\n",
              "       [0., 1., 0.],\n",
              "       [0., 0., 1.]])"
            ]
          },
          "metadata": {
            "tags": []
          },
          "execution_count": 22
        }
      ]
    },
    {
      "cell_type": "markdown",
      "metadata": {
        "id": "5xB1p4hBpfDh"
      },
      "source": [
        "OR"
      ]
    },
    {
      "cell_type": "code",
      "metadata": {
        "colab": {
          "base_uri": "https://localhost:8080/"
        },
        "id": "fRc7FgBxpZiH",
        "outputId": "3bcce3ec-3299-4432-efb0-8981ce99b29c"
      },
      "source": [
        "np.eye(3, 3)"
      ],
      "execution_count": 23,
      "outputs": [
        {
          "output_type": "execute_result",
          "data": {
            "text/plain": [
              "array([[1., 0., 0.],\n",
              "       [0., 1., 0.],\n",
              "       [0., 0., 1.]])"
            ]
          },
          "metadata": {
            "tags": []
          },
          "execution_count": 23
        }
      ]
    },
    {
      "cell_type": "code",
      "metadata": {
        "colab": {
          "base_uri": "https://localhost:8080/"
        },
        "id": "hckUqk6IpeAC",
        "outputId": "6503a631-2801-4108-a8ff-65c3aa7f3a48"
      },
      "source": [
        "z = np.random.random((3, 3, 3))\n",
        "z"
      ],
      "execution_count": 26,
      "outputs": [
        {
          "output_type": "execute_result",
          "data": {
            "text/plain": [
              "array([[[0.63293918, 0.33322448, 0.00653193],\n",
              "        [0.57457999, 0.84388967, 0.69778383],\n",
              "        [0.06639604, 0.75979702, 0.97240954]],\n",
              "\n",
              "       [[0.02728707, 0.20675596, 0.93257439],\n",
              "        [0.03938638, 0.38825666, 0.05829881],\n",
              "        [0.03130772, 0.48800614, 0.00643113]],\n",
              "\n",
              "       [[0.26645846, 0.953512  , 0.06821116],\n",
              "        [0.77711461, 0.13219001, 0.71521594],\n",
              "        [0.33933285, 0.00467973, 0.45440275]]])"
            ]
          },
          "metadata": {
            "tags": []
          },
          "execution_count": 26
        }
      ]
    },
    {
      "cell_type": "code",
      "metadata": {
        "colab": {
          "base_uri": "https://localhost:8080/"
        },
        "id": "e5IByO-upl9P",
        "outputId": "f5f0c012-37db-4bb7-d4a4-77ecaafc9f94"
      },
      "source": [
        "e = np.random.random((10, 10))\n",
        "print(e.min())\n",
        "print(e.max())\n",
        "\n",
        "### OR\n",
        "\n",
        "print(np.min(e))\n",
        "print(np.max(e))"
      ],
      "execution_count": 31,
      "outputs": [
        {
          "output_type": "stream",
          "text": [
            "0.016016675881075026\n",
            "0.9985504560688291\n",
            "0.016016675881075026\n",
            "0.9985504560688291\n"
          ],
          "name": "stdout"
        }
      ]
    },
    {
      "cell_type": "code",
      "metadata": {
        "colab": {
          "base_uri": "https://localhost:8080/"
        },
        "id": "EF_DUnT-qBCy",
        "outputId": "c79d555c-7d14-4ccf-978c-069597624ff8"
      },
      "source": [
        "f = np.random.random((5, 6))\n",
        "print(np.mean(f))\n",
        "\n",
        "### OR\n",
        "\n",
        "print(f.mean())"
      ],
      "execution_count": 33,
      "outputs": [
        {
          "output_type": "stream",
          "text": [
            "0.5025541021543404\n",
            "0.5025541021543404\n"
          ],
          "name": "stdout"
        }
      ]
    },
    {
      "cell_type": "code",
      "metadata": {
        "colab": {
          "base_uri": "https://localhost:8080/"
        },
        "id": "uZABcvmhqfW6",
        "outputId": "1009520b-6bb6-4fd4-bb41-62734e6b9db4"
      },
      "source": [
        "g = np.ones((5, 5))\n",
        "g[1:4, 1:4] = 0\n",
        "g"
      ],
      "execution_count": 35,
      "outputs": [
        {
          "output_type": "execute_result",
          "data": {
            "text/plain": [
              "array([[1., 1., 1., 1., 1.],\n",
              "       [1., 0., 0., 0., 1.],\n",
              "       [1., 0., 0., 0., 1.],\n",
              "       [1., 0., 0., 0., 1.],\n",
              "       [1., 1., 1., 1., 1.]])"
            ]
          },
          "metadata": {
            "tags": []
          },
          "execution_count": 35
        }
      ]
    },
    {
      "cell_type": "code",
      "metadata": {
        "colab": {
          "base_uri": "https://localhost:8080/"
        },
        "id": "ASMQ5qAQqyAR",
        "outputId": "82fe7172-5e91-4a8d-e516-51a007801695"
      },
      "source": [
        "h = np.ones((5, 5))\n",
        "h[:1, :] = 0\n",
        "h[:, :1] = 0\n",
        "h[:, -1] = 0\n",
        "h[-1, :] = 0\n",
        "print(h)\n",
        "\n",
        "### OR\n",
        "\n",
        "h = np.ones((5,5))\n",
        "h[:1, :] = 0\n",
        "h[:, :1] = 0\n",
        "h[4:, :] = 0\n",
        "h[:, 4:] = 0"
      ],
      "execution_count": 43,
      "outputs": [
        {
          "output_type": "stream",
          "text": [
            "[[0. 0. 0. 0. 0.]\n",
            " [0. 1. 1. 1. 0.]\n",
            " [0. 1. 1. 1. 0.]\n",
            " [0. 1. 1. 1. 0.]\n",
            " [0. 0. 0. 0. 0.]]\n"
          ],
          "name": "stdout"
        }
      ]
    },
    {
      "cell_type": "code",
      "metadata": {
        "colab": {
          "base_uri": "https://localhost:8080/"
        },
        "id": "_F3B-qIkq4mF",
        "outputId": "e30245f6-bdef-4354-8ec0-00cef7cadf54"
      },
      "source": [
        "i = np.arange(1,15).reshape(2,7)\n",
        "print(i[1, 5])\n",
        "print(i[:1, :])\n",
        "print(i[:, 2])\n",
        "print(i[:1, 1::2])\n",
        "i[1, 5] = 20\n",
        "print(i[1, 5])\n",
        "\n",
        "### OR\n",
        "\n",
        "i = np.arange(1,15).reshape(2,7)\n",
        "# To get 13\n",
        "print(i[1,5])\n",
        "# To get first row only\n",
        "print(i[0,:])\n",
        "# to get third column only\n",
        "print(i[:,2])\n",
        "# To get [2, 4, 6]\n",
        "print(i[0,1::2])\n",
        "# replace 13 by 20\n",
        "i[1,5] = 20\n",
        "print(i)"
      ],
      "execution_count": 56,
      "outputs": [
        {
          "output_type": "stream",
          "text": [
            "13\n",
            "[[1 2 3 4 5 6 7]]\n",
            "[ 3 10]\n",
            "[[2 4 6]]\n",
            "20\n"
          ],
          "name": "stdout"
        }
      ]
    },
    {
      "cell_type": "code",
      "metadata": {
        "colab": {
          "base_uri": "https://localhost:8080/"
        },
        "id": "r0tFZO4Sr2S-",
        "outputId": "7121d879-065b-4217-8b86-1870fbd047c0"
      },
      "source": [
        "j  =np.arange(1, 17)\n",
        "print(j.ndim)\n",
        "print(j.reshape(2, 8))\n",
        "\n",
        "### OR\n",
        "\n",
        "j = np.arange(1,17)\n",
        "# Dimension of j\n",
        "print(j.ndim)\n",
        "# convert 1D to 2D\n",
        "print(j.reshape((2,8)))"
      ],
      "execution_count": 62,
      "outputs": [
        {
          "output_type": "stream",
          "text": [
            "1\n",
            "[[ 1  2  3  4  5  6  7  8]\n",
            " [ 9 10 11 12 13 14 15 16]]\n",
            "1\n",
            "[[ 1  2  3  4  5  6  7  8]\n",
            " [ 9 10 11 12 13 14 15 16]]\n"
          ],
          "name": "stdout"
        }
      ]
    },
    {
      "cell_type": "code",
      "metadata": {
        "colab": {
          "base_uri": "https://localhost:8080/"
        },
        "id": "kDkwsCZqu3nr",
        "outputId": "93957ac3-fa6f-4921-ef70-10a0ab8c23b7"
      },
      "source": [
        "a = np.array([1,2,3])\n",
        "np.append(np.repeat(a,3), np.tile(a, 3))"
      ],
      "execution_count": 63,
      "outputs": [
        {
          "output_type": "execute_result",
          "data": {
            "text/plain": [
              "array([1, 1, 1, 2, 2, 2, 3, 3, 3, 1, 2, 3, 1, 2, 3, 1, 2, 3])"
            ]
          },
          "metadata": {
            "tags": []
          },
          "execution_count": 63
        }
      ]
    },
    {
      "cell_type": "code",
      "metadata": {
        "colab": {
          "base_uri": "https://localhost:8080/"
        },
        "id": "iWlNls1lwkur",
        "outputId": "d499966e-773b-4dec-c7d6-a4f54a4804f4"
      },
      "source": [
        "l = range(100)\n",
        "a = 100\n",
        "import sys\n",
        "sys.getsizeof(a) * len(l)"
      ],
      "execution_count": 79,
      "outputs": [
        {
          "output_type": "execute_result",
          "data": {
            "text/plain": [
              "2800"
            ]
          },
          "metadata": {
            "tags": []
          },
          "execution_count": 79
        }
      ]
    },
    {
      "cell_type": "code",
      "metadata": {
        "colab": {
          "base_uri": "https://localhost:8080/"
        },
        "id": "tMDHtl_fw9Po",
        "outputId": "4d968705-dfd9-4759-f6cb-e7b0236b088e"
      },
      "source": [
        "a1 = np.arange(100)\n",
        "a1.size * a1.itemsize"
      ],
      "execution_count": 80,
      "outputs": [
        {
          "output_type": "execute_result",
          "data": {
            "text/plain": [
              "800"
            ]
          },
          "metadata": {
            "tags": []
          },
          "execution_count": 80
        }
      ]
    },
    {
      "cell_type": "code",
      "metadata": {
        "colab": {
          "base_uri": "https://localhost:8080/"
        },
        "id": "p-OnbmeXxG7F",
        "outputId": "01fc864f-5e6a-4313-f953-484172a77edd"
      },
      "source": [
        "import time\n",
        "import sys\n",
        "### List\n",
        "size = 10000000\n",
        "l1 = range(size)\n",
        "l2 = range(size)\n",
        "start = time.time()\n",
        "a = [(x * y) for x, y in zip(l1, l2) ]\n",
        "print('Time taken by List: ', (time.time() - start), 'Seconds')\n",
        "\n",
        "### Numpy Array\n",
        "n1 = np.arange(size)\n",
        "n2 = np.arange(size)\n",
        "start1 = time.time()\n",
        "b = n1 * n2\n",
        "print('Time taken by Numpy array: ', (time.time() - start1), 'Seconds')"
      ],
      "execution_count": 71,
      "outputs": [
        {
          "output_type": "stream",
          "text": [
            "Time taken by List:  1.261040210723877 Seconds\n",
            "Time taken bu Numpy array:  0.02216196060180664 Seconds\n"
          ],
          "name": "stdout"
        }
      ]
    },
    {
      "cell_type": "code",
      "metadata": {
        "id": "MHWgZPXTxpBg"
      },
      "source": [
        ""
      ],
      "execution_count": null,
      "outputs": []
    },
    {
      "cell_type": "code",
      "metadata": {
        "id": "41wFljYExpGr"
      },
      "source": [
        ""
      ],
      "execution_count": null,
      "outputs": []
    }
  ]
}